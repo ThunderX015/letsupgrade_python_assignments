{
 "cells": [
  {
   "cell_type": "markdown",
   "metadata": {},
   "source": [
    "# Question 1 - Opening and Writing a file:"
   ]
  },
  {
   "cell_type": "code",
   "execution_count": 8,
   "metadata": {},
   "outputs": [],
   "source": [
    "Firstfile = open(\"FirstFile.txt\",'w')     #Creation of file!\n",
    "Firstfile.write(\"I Love LetsUpgrade\")     #Writing to file \n",
    "Firstfile.close()                         #Closing file"
   ]
  },
  {
   "cell_type": "code",
   "execution_count": 14,
   "metadata": {},
   "outputs": [],
   "source": [
    "Firstfile = open(\"FirstFile.txt\",'r')     #Opening a file in read mode     \n",
    "file_content = Firstfile.read()           #Reading file\n",
    "Firstfile.close()                         #Closing file"
   ]
  },
  {
   "cell_type": "code",
   "execution_count": 15,
   "metadata": {},
   "outputs": [
    {
     "data": {
      "text/plain": [
       "'I Love LetsUpgrade'"
      ]
     },
     "execution_count": 15,
     "metadata": {},
     "output_type": "execute_result"
    }
   ],
   "source": [
    "file_content                              #Printing"
   ]
  },
  {
   "cell_type": "markdown",
   "metadata": {},
   "source": [
    "# Question 2 - Function that returns factorial of a number:"
   ]
  },
  {
   "cell_type": "code",
   "execution_count": 39,
   "metadata": {},
   "outputs": [],
   "source": [
    "def fact(n):                             #Defining a function\n",
    "    multiple = 1                         #local variable to store factorials\n",
    "    for item in range(1,n+1):            #loop that Creates numbers from 1 to n\n",
    "        multiple *= item                 #Multiplying to find the factorial\n",
    "    return multiple   "
   ]
  },
  {
   "cell_type": "code",
   "execution_count": 42,
   "metadata": {},
   "outputs": [
    {
     "name": "stdout",
     "output_type": "stream",
     "text": [
      "Enter a number to find its factorial: 5\n",
      "The factorial of 5 = 120\n"
     ]
    }
   ],
   "source": [
    "number = int(input(\"Enter a number to find its factorial: \"))\n",
    "factorial = fact(number)\n",
    "print(f\"The factorial of {number} = {factorial}\")"
   ]
  },
  {
   "cell_type": "code",
   "execution_count": null,
   "metadata": {},
   "outputs": [],
   "source": []
  }
 ],
 "metadata": {
  "kernelspec": {
   "display_name": "Python 3",
   "language": "python",
   "name": "python3"
  },
  "language_info": {
   "codemirror_mode": {
    "name": "ipython",
    "version": 3
   },
   "file_extension": ".py",
   "mimetype": "text/x-python",
   "name": "python",
   "nbconvert_exporter": "python",
   "pygments_lexer": "ipython3",
   "version": "3.8.5"
  }
 },
 "nbformat": 4,
 "nbformat_minor": 4
}
